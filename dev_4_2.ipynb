{
 "cells": [
  {
   "cell_type": "markdown",
   "id": "5e5593a8-f542-45a3-8227-23d892ea8cc7",
   "metadata": {},
   "source": [
    "## Enumerations"
   ]
  },
  {
   "cell_type": "markdown",
   "id": "66f2a58b-92dd-4edc-aadb-e27e35fb3de1",
   "metadata": {},
   "source": [
    "### Test_1"
   ]
  },
  {
   "cell_type": "code",
   "execution_count": 2,
   "id": "dd90bdbb-1e82-4d1f-88e3-5669247e37da",
   "metadata": {},
   "outputs": [
    {
     "name": "stdout",
     "output_type": "stream",
     "text": [
      "Today is WEDNESDAY\n",
      "Today's value is 3\n",
      "It's Wednesday!\n",
      "MONDAY 1\n",
      "TUESDAY 2\n",
      "WEDNESDAY 3\n",
      "THURSDAY 4\n",
      "FRIDAY 5\n",
      "SATURDAY 6\n",
      "SUNDAY 7\n"
     ]
    }
   ],
   "source": [
    "from enum import Enum\n",
    "\n",
    "# Define an enumeration for the days of the week\n",
    "class Day(Enum):\n",
    "    MONDAY = 1\n",
    "    TUESDAY = 2\n",
    "    WEDNESDAY = 3\n",
    "    THURSDAY = 4\n",
    "    FRIDAY = 5\n",
    "    SATURDAY = 6\n",
    "    SUNDAY = 7\n",
    "\n",
    "# Using the Enum\n",
    "today = Day.WEDNESDAY\n",
    "\n",
    "# Accessing the name and value\n",
    "print(f\"Today is {today.name}\")  # Output: Today is WEDNESDAY\n",
    "print(f\"Today's value is {today.value}\")  # Output: Today's value is 3\n",
    "\n",
    "# Comparing Enum members\n",
    "if today == Day.WEDNESDAY:\n",
    "    print(\"It's Wednesday!\")\n",
    "else:\n",
    "    print(\"It's not Wednesday.\")\n",
    "\n",
    "# Iterating over Enum members\n",
    "for day in Day:\n",
    "    print(day.name, day.value)"
   ]
  },
  {
   "cell_type": "markdown",
   "id": "9a0cacc8-9d5c-4484-9534-acde737fc27b",
   "metadata": {
    "jp-MarkdownHeadingCollapsed": true
   },
   "source": [
    "### Test_2"
   ]
  },
  {
   "cell_type": "code",
   "execution_count": 3,
   "id": "51be7bb0-8423-4451-ad61-96ee50d779dd",
   "metadata": {},
   "outputs": [
    {
     "name": "stdout",
     "output_type": "stream",
     "text": [
      "My favorite color is GREEN\n",
      "Its value is 2\n",
      "Green is the best!\n"
     ]
    }
   ],
   "source": [
    "from enum import Enum\n",
    "\n",
    "class Color(Enum):\n",
    "    RED = 1\n",
    "    GREEN = 2\n",
    "    BLUE = 3\n",
    "\n",
    "# Using the Enum\n",
    "favorite_color = Color.GREEN\n",
    "\n",
    "# Accessing the name and value\n",
    "print(f\"My favorite color is {favorite_color.name}\")  # Output: My favorite color is GREEN\n",
    "print(f\"Its value is {favorite_color.value}\")  # Output: Its value is 2\n",
    "\n",
    "# Comparing Enum members\n",
    "if favorite_color == Color.GREEN:\n",
    "    print(\"Green is the best!\")\n",
    "else:\n",
    "    print(\"I prefer other colors.\")"
   ]
  },
  {
   "cell_type": "markdown",
   "id": "ef5353cf-80e7-4c71-84de-2b5e3c083147",
   "metadata": {
    "jp-MarkdownHeadingCollapsed": true
   },
   "source": [
    "### Test_3 (advance)"
   ]
  },
  {
   "cell_type": "code",
   "execution_count": 6,
   "id": "3c238f28-f3f7-43df-95a3-ef40f276d4f8",
   "metadata": {},
   "outputs": [
    {
     "name": "stdout",
     "output_type": "stream",
     "text": [
      "Current state: RED\n",
      "Next state: GREEN\n",
      "Next state: YELLOW\n",
      "Next state: RED\n",
      "Next state: GREEN\n",
      "Next state: YELLOW\n"
     ]
    }
   ],
   "source": [
    "from enum import Enum, auto\n",
    "\n",
    "# Define an enumeration for the traffic light states\n",
    "class TrafficLightState(Enum):\n",
    "    RED = auto()  # auto() automatically assigns unique values\n",
    "    YELLOW = auto()\n",
    "    GREEN = auto()\n",
    "\n",
    "    # Define a method to get the next state\n",
    "    def next_state(self):\n",
    "        if self == TrafficLightState.RED:\n",
    "            return TrafficLightState.GREEN\n",
    "        elif self == TrafficLightState.GREEN:\n",
    "            return TrafficLightState.YELLOW\n",
    "        elif self == TrafficLightState.YELLOW:\n",
    "            return TrafficLightState.RED\n",
    "        else:\n",
    "            raise ValueError(\"Invalid state\")\n",
    "\n",
    "# Using the Enum\n",
    "current_state = TrafficLightState.RED\n",
    "\n",
    "# Simulate the traffic light cycle\n",
    "print(f\"Current state: {current_state.name}\")\n",
    "for _ in range(5):  # Simulate 5 state changes\n",
    "    current_state = current_state.next_state()\n",
    "    print(f\"Next state: {current_state.name}\")"
   ]
  },
  {
   "cell_type": "markdown",
   "id": "c19f2f00-d606-425a-95c2-324a69df7125",
   "metadata": {},
   "source": [
    "### Test_4 (advance)"
   ]
  },
  {
   "cell_type": "code",
   "execution_count": 7,
   "id": "9a20bbd5-8aa3-4a18-a5c2-3121b988f5bb",
   "metadata": {},
   "outputs": [
    {
     "name": "stdout",
     "output_type": "stream",
     "text": [
      "Current state: RED, Duration: 30 seconds\n",
      "Next state: GREEN, Duration: 45 seconds\n",
      "Next state: YELLOW, Duration: 5 seconds\n",
      "Next state: RED, Duration: 30 seconds\n",
      "Next state: GREEN, Duration: 45 seconds\n",
      "Next state: YELLOW, Duration: 5 seconds\n"
     ]
    }
   ],
   "source": [
    "from enum import Enum, auto\n",
    "\n",
    "class TrafficLightState(Enum):\n",
    "    RED = auto()\n",
    "    YELLOW = auto()\n",
    "    GREEN = auto()\n",
    "\n",
    "    def next_state(self):\n",
    "        if self == TrafficLightState.RED:\n",
    "            return TrafficLightState.GREEN\n",
    "        elif self == TrafficLightState.GREEN:\n",
    "            return TrafficLightState.YELLOW\n",
    "        elif self == TrafficLightState.YELLOW:\n",
    "            return TrafficLightState.RED\n",
    "        else:\n",
    "            raise ValueError(\"Invalid state\")\n",
    "\n",
    "    def duration(self):\n",
    "        if self == TrafficLightState.RED:\n",
    "            return 30  # Red light lasts 30 seconds\n",
    "        elif self == TrafficLightState.GREEN:\n",
    "            return 45  # Green light lasts 45 seconds\n",
    "        elif self == TrafficLightState.YELLOW:\n",
    "            return 5  # Yellow light lasts 5 seconds\n",
    "        else:\n",
    "            raise ValueError(\"Invalid state\")\n",
    "\n",
    "# Simulate the traffic light cycle with durations\n",
    "current_state = TrafficLightState.RED\n",
    "print(f\"Current state: {current_state.name}, Duration: {current_state.duration()} seconds\")\n",
    "for _ in range(5):\n",
    "    current_state = current_state.next_state()\n",
    "    print(f\"Next state: {current_state.name}, Duration: {current_state.duration()} seconds\")"
   ]
  },
  {
   "cell_type": "code",
   "execution_count": null,
   "id": "5ab7351f-35d5-45cf-b786-bdf54f37aa6e",
   "metadata": {},
   "outputs": [],
   "source": []
  }
 ],
 "metadata": {
  "kernelspec": {
   "display_name": "Python 3 (ipykernel)",
   "language": "python",
   "name": "python3"
  },
  "language_info": {
   "codemirror_mode": {
    "name": "ipython",
    "version": 3
   },
   "file_extension": ".py",
   "mimetype": "text/x-python",
   "name": "python",
   "nbconvert_exporter": "python",
   "pygments_lexer": "ipython3",
   "version": "3.11.11"
  }
 },
 "nbformat": 4,
 "nbformat_minor": 5
}
