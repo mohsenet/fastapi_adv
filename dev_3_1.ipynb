{
 "cells": [
  {
   "cell_type": "markdown",
   "id": "1d6db62d-ac35-4f99-8b43-fdaefa650ed2",
   "metadata": {
    "jp-MarkdownHeadingCollapsed": true
   },
   "source": [
    "### pydantic sample"
   ]
  },
  {
   "cell_type": "code",
   "execution_count": null,
   "id": "5eb48215-1512-4a54-b8ca-ba662254cef2",
   "metadata": {},
   "outputs": [],
   "source": [
    "# Explanation of pydantic"
   ]
  },
  {
   "cell_type": "markdown",
   "id": "3a325d18-4286-469f-ba43-016733e4f617",
   "metadata": {},
   "source": [
    "### whole of code"
   ]
  },
  {
   "cell_type": "code",
   "execution_count": null,
   "id": "c517202a-cd5f-40b7-b292-cada854f4b50",
   "metadata": {},
   "outputs": [],
   "source": [
    "# Install required packages if needed - run this cell first\n",
    "!pip install fastapi pydantic uvicorn email-validator nest-asyncio\n",
    "\n",
    "import nest_asyncio\n",
    "nest_asyncio.apply()  # This allows running FastAPI in Jupyter\n",
    "\n",
    "from fastapi import FastAPI\n",
    "from pydantic import BaseModel, EmailStr, Field\n",
    "from typing import Optional\n",
    "import uvicorn\n",
    "from IPython.display import Markdown, display\n",
    "\n",
    "# Define Pydantic Models for request input and output schemas\n",
    "class UserRegistrationRequest(BaseModel):\n",
    "    username: str = Field(..., min_length=3, max_length=50)\n",
    "    email: EmailStr\n",
    "    password: str = Field(..., min_length=8)\n",
    "    full_name: Optional[str] = None\n",
    "    age: Optional[int] = Field(None, ge=18)\n",
    "    \n",
    "    class Config:\n",
    "        json_schema_extra = {\n",
    "            \"example\": {\n",
    "                \"username\": \"johndoe\",\n",
    "                \"email\": \"john@example.com\",\n",
    "                \"password\": \"securepass123\",\n",
    "                \"full_name\": \"John Doe\",\n",
    "                \"age\": 30\n",
    "            }\n",
    "        }\n",
    "\n",
    "class UserRegistrationResponse(BaseModel):\n",
    "    id: int\n",
    "    username: str\n",
    "    email: EmailStr\n",
    "    full_name: Optional[str] = None\n",
    "    is_active: bool = True\n",
    "\n",
    "# Create FastAPI application\n",
    "app = FastAPI()\n",
    "\n",
    "# Define an endpoint that uses our Pydantic models\n",
    "@app.post(\"/users/\", response_model=UserRegistrationResponse)\n",
    "async def create_user(user: UserRegistrationRequest):\n",
    "    \"\"\"\n",
    "    Register a new user with the provided details.\n",
    "    The input is validated against UserRegistrationRequest.\n",
    "    Returns a UserRegistrationResponse object.\n",
    "    \"\"\"\n",
    "    # In a real app, this would save to a database\n",
    "    # Here we just return a mock response\n",
    "    return {\n",
    "        \"id\": 1,\n",
    "        \"username\": user.username,\n",
    "        \"email\": user.email,\n",
    "        \"full_name\": user.full_name,\n",
    "        \"is_active\": True\n",
    "    }\n",
    "\n",
    "# Run the FastAPI server\n",
    "# This will make the API available at http://127.0.0.1:8000\n",
    "if __name__ == \"__main__\":\n",
    "    uvicorn.run(app, host=\"127.0.0.1\", port=8000)\n",
    "\n",
    "# Test the models in Jupyter directly without running the server\n",
    "def test_pydantic_models():\n",
    "    display(Markdown(\"## Testing Pydantic Models\"))\n",
    "    \n",
    "    # Create a valid user\n",
    "    try:\n",
    "        user = UserRegistrationRequest(\n",
    "            username=\"testuser\",\n",
    "            email=\"test@example.com\",\n",
    "            password=\"password123\",\n",
    "            full_name=\"Test User\",\n",
    "            age=25\n",
    "        )\n",
    "        print(\"✅ Valid user created:\", user.model_dump())\n",
    "    except Exception as e:\n",
    "        print(\"❌ Error creating valid user:\", e)\n",
    "    \n",
    "    # Try creating an invalid user (too short username, invalid email)\n",
    "    try:\n",
    "        user = UserRegistrationRequest(\n",
    "            username=\"tu\",  # too short\n",
    "            email=\"not-an-email\",  # invalid email\n",
    "            password=\"short\",  # too short\n",
    "            age=15  # too young\n",
    "        )\n",
    "        print(\"User:\", user.model_dump())\n",
    "    except Exception as e:\n",
    "        print(\"❌ Validation error (expected):\", e)\n",
    "    \n",
    "    # Create a response\n",
    "    try:\n",
    "        response = UserRegistrationResponse(\n",
    "            id=1,\n",
    "            username=\"testuser\",\n",
    "            email=\"test@example.com\",\n",
    "            full_name=\"Test User\"\n",
    "        )\n",
    "        print(\"✅ Valid response created:\", response.model_dump())\n",
    "    except Exception as e:\n",
    "        print(\"❌ Error creating response:\", e)\n",
    "\n",
    "# Run the test function\n",
    "test_pydantic_models()\n",
    "\n",
    "# Display instructions for using the API\n",
    "display(Markdown(\"\"\"\n",
    "## Instructions for using the API\n",
    "\n",
    "1. Run the cell above to start the FastAPI server\n",
    "2. Open http://127.0.0.1:8000/docs in your browser to see the Swagger UI\n",
    "3. You can test the API through the Swagger UI or use the following code in another cell:\n",
    "\n",
    "```python\n",
    "import requests\n",
    "import json\n",
    "\n",
    "response = requests.post(\n",
    "    \"http://127.0.0.1:8000/users/\",\n",
    "    json={\n",
    "        \"username\": \"johndoe\",\n",
    "        \"email\": \"john@example.com\",\n",
    "        \"password\": \"securepass123\",\n",
    "        \"full_name\": \"John Doe\",\n",
    "        \"age\": 30\n",
    "    }\n",
    ")\n",
    "\n",
    "print(\"Status Code:\", response.status_code)\n",
    "print(\"Response:\")\n",
    "print(json.dumps(response.json(), indent=2))\n",
    "```\n",
    "\"\"\"))"
   ]
  },
  {
   "cell_type": "markdown",
   "id": "ef2ff497-5b01-4d51-a881-62afd324f8db",
   "metadata": {
    "jp-MarkdownHeadingCollapsed": true
   },
   "source": [
    "### seperate of code"
   ]
  },
  {
   "cell_type": "code",
   "execution_count": 1,
   "id": "e5b8b829-476e-4388-a803-88dfa9f73225",
   "metadata": {},
   "outputs": [],
   "source": [
    "# Install required packages if needed - run this cell first\n",
    "# !pip install fastapi pydantic uvicorn email-validator nest-asyncio"
   ]
  },
  {
   "cell_type": "code",
   "execution_count": 1,
   "id": "410a5d6e-9958-4417-9392-e6cc693f9748",
   "metadata": {},
   "outputs": [],
   "source": [
    "import nest_asyncio\n",
    "nest_asyncio.apply()  # This allows running FastAPI in Jupyter"
   ]
  },
  {
   "cell_type": "code",
   "execution_count": 2,
   "id": "649c8507-4a91-4c40-8713-a9d9756df80f",
   "metadata": {},
   "outputs": [],
   "source": [
    "from fastapi import FastAPI\n",
    "from pydantic import BaseModel, EmailStr, Field\n",
    "from typing import Optional\n",
    "import uvicorn\n",
    "from IPython.display import Markdown, display"
   ]
  },
  {
   "cell_type": "code",
   "execution_count": 3,
   "id": "7603fd31-eb8a-4d2b-aa9b-b7c738470fef",
   "metadata": {},
   "outputs": [],
   "source": [
    "# Define Pydantic Models for request input and output schemas\n",
    "class UserRegistrationRequest(BaseModel):\n",
    "    username: str = Field(..., min_length=3, max_length=50)\n",
    "    email: EmailStr\n",
    "    password: str = Field(..., min_length=8)\n",
    "    full_name: Optional[str] = None\n",
    "    age: Optional[int] = Field(None, ge=18)\n",
    "    \n",
    "    class Config:\n",
    "        json_schema_extra = {\n",
    "            \"example\": {\n",
    "                \"username\": \"johndoe\",\n",
    "                \"email\": \"john@example.com\",\n",
    "                \"password\": \"securepass123\",\n",
    "                \"full_name\": \"John Doe\",\n",
    "                \"age\": 30\n",
    "            }\n",
    "        }\n",
    "\n",
    "class UserRegistrationResponse(BaseModel):\n",
    "    id: int\n",
    "    username: str\n",
    "    email: EmailStr\n",
    "    full_name: Optional[str] = None\n",
    "    is_active: bool = True"
   ]
  },
  {
   "cell_type": "code",
   "execution_count": 4,
   "id": "26340361-e886-47a4-a0a0-bce2e955ed60",
   "metadata": {},
   "outputs": [],
   "source": [
    "# Create FastAPI application\n",
    "app = FastAPI()"
   ]
  },
  {
   "cell_type": "code",
   "execution_count": 5,
   "id": "e8b5e34e-1192-41f8-92ef-d98bb0502380",
   "metadata": {},
   "outputs": [],
   "source": [
    "# Define an endpoint that uses our Pydantic models\n",
    "@app.post(\"/users/\", response_model=UserRegistrationResponse)\n",
    "async def create_user(user: UserRegistrationRequest):\n",
    "    \"\"\"\n",
    "    Register a new user with the provided details.\n",
    "    The input is validated against UserRegistrationRequest.\n",
    "    Returns a UserRegistrationResponse object.\n",
    "    \"\"\"\n",
    "    # In a real app, this would save to a database\n",
    "    # Here we just return a mock response\n",
    "    return {\n",
    "        \"id\": 1,\n",
    "        \"username\": user.username,\n",
    "        \"email\": user.email,\n",
    "        \"full_name\": user.full_name,\n",
    "        \"is_active\": True\n",
    "    }"
   ]
  },
  {
   "cell_type": "code",
   "execution_count": 6,
   "id": "b51f85e9-43b8-4900-9f44-baa0a7317536",
   "metadata": {},
   "outputs": [
    {
     "name": "stderr",
     "output_type": "stream",
     "text": [
      "INFO:     Started server process [194825]\n",
      "INFO:     Waiting for application startup.\n",
      "INFO:     Application startup complete.\n",
      "INFO:     Uvicorn running on http://127.0.0.1:8000 (Press CTRL+C to quit)\n"
     ]
    },
    {
     "name": "stdout",
     "output_type": "stream",
     "text": [
      "INFO:     127.0.0.1:33216 - \"POST /users/ HTTP/1.1\" 200 OK\n"
     ]
    },
    {
     "ename": "RuntimeError",
     "evalue": "Event loop stopped before Future completed.",
     "output_type": "error",
     "traceback": [
      "\u001b[31m---------------------------------------------------------------------------\u001b[39m",
      "\u001b[31mRuntimeError\u001b[39m                              Traceback (most recent call last)",
      "\u001b[36mCell\u001b[39m\u001b[36m \u001b[39m\u001b[32mIn[6]\u001b[39m\u001b[32m, line 4\u001b[39m\n\u001b[32m      1\u001b[39m \u001b[38;5;66;03m# Run the FastAPI server\u001b[39;00m\n\u001b[32m      2\u001b[39m \u001b[38;5;66;03m# This will make the API available at http://127.0.0.1:8000\u001b[39;00m\n\u001b[32m      3\u001b[39m \u001b[38;5;28;01mif\u001b[39;00m \u001b[34m__name__\u001b[39m == \u001b[33m\"\u001b[39m\u001b[33m__main__\u001b[39m\u001b[33m\"\u001b[39m:\n\u001b[32m----> \u001b[39m\u001b[32m4\u001b[39m     \u001b[43muvicorn\u001b[49m\u001b[43m.\u001b[49m\u001b[43mrun\u001b[49m\u001b[43m(\u001b[49m\u001b[43mapp\u001b[49m\u001b[43m,\u001b[49m\u001b[43m \u001b[49m\u001b[43mhost\u001b[49m\u001b[43m=\u001b[49m\u001b[33;43m\"\u001b[39;49m\u001b[33;43m127.0.0.1\u001b[39;49m\u001b[33;43m\"\u001b[39;49m\u001b[43m,\u001b[49m\u001b[43m \u001b[49m\u001b[43mport\u001b[49m\u001b[43m=\u001b[49m\u001b[32;43m8000\u001b[39;49m\u001b[43m)\u001b[49m\n",
      "\u001b[36mFile \u001b[39m\u001b[32m~/frr/source_venv/.venv/lib/python3.11/site-packages/uvicorn/main.py:579\u001b[39m, in \u001b[36mrun\u001b[39m\u001b[34m(app, host, port, uds, fd, loop, http, ws, ws_max_size, ws_max_queue, ws_ping_interval, ws_ping_timeout, ws_per_message_deflate, lifespan, interface, reload, reload_dirs, reload_includes, reload_excludes, reload_delay, workers, env_file, log_config, log_level, access_log, proxy_headers, server_header, date_header, forwarded_allow_ips, root_path, limit_concurrency, backlog, limit_max_requests, timeout_keep_alive, timeout_graceful_shutdown, ssl_keyfile, ssl_certfile, ssl_keyfile_password, ssl_version, ssl_cert_reqs, ssl_ca_certs, ssl_ciphers, headers, use_colors, app_dir, factory, h11_max_incomplete_event_size)\u001b[39m\n\u001b[32m    577\u001b[39m         Multiprocess(config, target=server.run, sockets=[sock]).run()\n\u001b[32m    578\u001b[39m     \u001b[38;5;28;01melse\u001b[39;00m:\n\u001b[32m--> \u001b[39m\u001b[32m579\u001b[39m         \u001b[43mserver\u001b[49m\u001b[43m.\u001b[49m\u001b[43mrun\u001b[49m\u001b[43m(\u001b[49m\u001b[43m)\u001b[49m\n\u001b[32m    580\u001b[39m \u001b[38;5;28;01mexcept\u001b[39;00m \u001b[38;5;167;01mKeyboardInterrupt\u001b[39;00m:\n\u001b[32m    581\u001b[39m     \u001b[38;5;28;01mpass\u001b[39;00m  \u001b[38;5;66;03m# pragma: full coverage\u001b[39;00m\n",
      "\u001b[36mFile \u001b[39m\u001b[32m~/frr/source_venv/.venv/lib/python3.11/site-packages/uvicorn/server.py:66\u001b[39m, in \u001b[36mServer.run\u001b[39m\u001b[34m(self, sockets)\u001b[39m\n\u001b[32m     64\u001b[39m \u001b[38;5;28;01mdef\u001b[39;00m\u001b[38;5;250m \u001b[39m\u001b[34mrun\u001b[39m(\u001b[38;5;28mself\u001b[39m, sockets: \u001b[38;5;28mlist\u001b[39m[socket.socket] | \u001b[38;5;28;01mNone\u001b[39;00m = \u001b[38;5;28;01mNone\u001b[39;00m) -> \u001b[38;5;28;01mNone\u001b[39;00m:\n\u001b[32m     65\u001b[39m     \u001b[38;5;28mself\u001b[39m.config.setup_event_loop()\n\u001b[32m---> \u001b[39m\u001b[32m66\u001b[39m     \u001b[38;5;28;01mreturn\u001b[39;00m \u001b[43masyncio\u001b[49m\u001b[43m.\u001b[49m\u001b[43mrun\u001b[49m\u001b[43m(\u001b[49m\u001b[38;5;28;43mself\u001b[39;49m\u001b[43m.\u001b[49m\u001b[43mserve\u001b[49m\u001b[43m(\u001b[49m\u001b[43msockets\u001b[49m\u001b[43m=\u001b[49m\u001b[43msockets\u001b[49m\u001b[43m)\u001b[49m\u001b[43m)\u001b[49m\n",
      "\u001b[36mFile \u001b[39m\u001b[32m~/frr/source_venv/.venv/lib/python3.11/site-packages/nest_asyncio.py:30\u001b[39m, in \u001b[36m_patch_asyncio.<locals>.run\u001b[39m\u001b[34m(main, debug)\u001b[39m\n\u001b[32m     28\u001b[39m task = asyncio.ensure_future(main)\n\u001b[32m     29\u001b[39m \u001b[38;5;28;01mtry\u001b[39;00m:\n\u001b[32m---> \u001b[39m\u001b[32m30\u001b[39m     \u001b[38;5;28;01mreturn\u001b[39;00m \u001b[43mloop\u001b[49m\u001b[43m.\u001b[49m\u001b[43mrun_until_complete\u001b[49m\u001b[43m(\u001b[49m\u001b[43mtask\u001b[49m\u001b[43m)\u001b[49m\n\u001b[32m     31\u001b[39m \u001b[38;5;28;01mfinally\u001b[39;00m:\n\u001b[32m     32\u001b[39m     \u001b[38;5;28;01mif\u001b[39;00m \u001b[38;5;129;01mnot\u001b[39;00m task.done():\n",
      "\u001b[36mFile \u001b[39m\u001b[32m~/frr/source_venv/.venv/lib/python3.11/site-packages/nest_asyncio.py:96\u001b[39m, in \u001b[36m_patch_loop.<locals>.run_until_complete\u001b[39m\u001b[34m(self, future)\u001b[39m\n\u001b[32m     94\u001b[39m         \u001b[38;5;28;01mbreak\u001b[39;00m\n\u001b[32m     95\u001b[39m \u001b[38;5;28;01mif\u001b[39;00m \u001b[38;5;129;01mnot\u001b[39;00m f.done():\n\u001b[32m---> \u001b[39m\u001b[32m96\u001b[39m     \u001b[38;5;28;01mraise\u001b[39;00m \u001b[38;5;167;01mRuntimeError\u001b[39;00m(\n\u001b[32m     97\u001b[39m         \u001b[33m'\u001b[39m\u001b[33mEvent loop stopped before Future completed.\u001b[39m\u001b[33m'\u001b[39m)\n\u001b[32m     98\u001b[39m \u001b[38;5;28;01mreturn\u001b[39;00m f.result()\n",
      "\u001b[31mRuntimeError\u001b[39m: Event loop stopped before Future completed."
     ]
    }
   ],
   "source": [
    "# Run the FastAPI server\n",
    "# This will make the API available at http://127.0.0.1:8000\n",
    "if __name__ == \"__main__\":\n",
    "    uvicorn.run(app, host=\"127.0.0.1\", port=8000)"
   ]
  },
  {
   "cell_type": "markdown",
   "id": "02ee9f18-214c-4d44-9b9e-8d6cd1328788",
   "metadata": {
    "jp-MarkdownHeadingCollapsed": true
   },
   "source": [
    "### Run following cell with dev_3_2.ipynb"
   ]
  },
  {
   "cell_type": "code",
   "execution_count": null,
   "id": "6737aecc-e198-4722-b2ae-b2b5ab8de888",
   "metadata": {},
   "outputs": [],
   "source": [
    "# Test the models in Jupyter directly without running the server\n",
    "def test_pydantic_models():\n",
    "    display(Markdown(\"## Testing Pydantic Models\"))\n",
    "    \n",
    "    # Create a valid user\n",
    "    try:\n",
    "        user = UserRegistrationRequest(\n",
    "            username=\"testuser\",\n",
    "            email=\"test@example.com\",\n",
    "            password=\"password123\",\n",
    "            full_name=\"Test User\",\n",
    "            age=25\n",
    "        )\n",
    "        print(\"✅ Valid user created:\", user.model_dump())\n",
    "    except Exception as e:\n",
    "        print(\"❌ Error creating valid user:\", e)\n",
    "    \n",
    "    # Try creating an invalid user (too short username, invalid email)\n",
    "    try:\n",
    "        user = UserRegistrationRequest(\n",
    "            username=\"tu\",  # too short\n",
    "            email=\"not-an-email\",  # invalid email\n",
    "            password=\"short\",  # too short\n",
    "            age=15  # too young\n",
    "        )\n",
    "        print(\"User:\", user.model_dump())\n",
    "    except Exception as e:\n",
    "        print(\"❌ Validation error (expected):\", e)\n",
    "    \n",
    "    # Create a response\n",
    "    try:\n",
    "        response = UserRegistrationResponse(\n",
    "            id=1,\n",
    "            username=\"testuser\",\n",
    "            email=\"test@example.com\",\n",
    "            full_name=\"Test User\"\n",
    "        )\n",
    "        print(\"✅ Valid response created:\", response.model_dump())\n",
    "    except Exception as e:\n",
    "        print(\"❌ Error creating response:\", e)"
   ]
  },
  {
   "cell_type": "code",
   "execution_count": null,
   "id": "d0a3d79f-1c4d-444e-b153-8fef5b945386",
   "metadata": {},
   "outputs": [],
   "source": [
    "# Run the test function\n",
    "test_pydantic_models()\n",
    "\n",
    "# Display instructions for using the API\n",
    "display(Markdown(\"\"\"\n",
    "## Instructions for using the API\n",
    "\n",
    "1. Run the cell above to start the FastAPI server\n",
    "2. Open http://127.0.0.1:8000/docs in your browser to see the Swagger UI\n",
    "3. You can test the API through the Swagger UI or use the following code in another cell:\n",
    "\n",
    "```python\n",
    "import requests\n",
    "import json\n",
    "\n",
    "response = requests.post(\n",
    "    \"http://127.0.0.1:8000/users/\",\n",
    "    json={\n",
    "        \"username\": \"johndoe\",\n",
    "        \"email\": \"john@example.com\",\n",
    "        \"password\": \"securepass123\",\n",
    "        \"full_name\": \"John Doe\",\n",
    "        \"age\": 30\n",
    "    }\n",
    ")\n",
    "\n",
    "print(\"Status Code:\", response.status_code)\n",
    "print(\"Response:\")\n",
    "print(json.dumps(response.json(), indent=2))\n",
    "```\n",
    "\"\"\"))"
   ]
  }
 ],
 "metadata": {
  "kernelspec": {
   "display_name": "Python 3 (ipykernel)",
   "language": "python",
   "name": "python3"
  },
  "language_info": {
   "codemirror_mode": {
    "name": "ipython",
    "version": 3
   },
   "file_extension": ".py",
   "mimetype": "text/x-python",
   "name": "python",
   "nbconvert_exporter": "python",
   "pygments_lexer": "ipython3",
   "version": "3.10.12"
  }
 },
 "nbformat": 4,
 "nbformat_minor": 5
}
