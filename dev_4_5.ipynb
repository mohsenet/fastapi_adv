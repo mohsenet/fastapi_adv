{
 "cells": [
  {
   "cell_type": "markdown",
   "id": "058a2340-40a6-430c-86fd-dcdf651ec9b2",
   "metadata": {
    "jp-MarkdownHeadingCollapsed": true
   },
   "source": [
    "### ASGI vs WSGI [1]"
   ]
  },
  {
   "cell_type": "markdown",
   "id": "de722d18-1954-4ffa-ae5a-73a158ff61ba",
   "metadata": {},
   "source": [
    "Choose WSGI for traditional apps and ASGI for modern, real-time, or high-performance apps."
   ]
  },
  {
   "cell_type": "code",
   "execution_count": 4,
   "id": "0cbc9738-d563-4d33-85a3-ffcaeeafcc09",
   "metadata": {},
   "outputs": [],
   "source": [
    "# uvicorn   ==> ASGI\n",
    "# gunicorn  ==> WSGI"
   ]
  },
  {
   "cell_type": "code",
   "execution_count": 5,
   "id": "70270aa3-b96e-45ee-82a9-b719f2853df7",
   "metadata": {},
   "outputs": [],
   "source": [
    "# Put following code in the main.py file\n",
    "# And run it with following command\n",
    "#\n",
    "# python main.py\n",
    "# or\n",
    "# uvicorn main:app --host 0.0.0.0 --port 8000\n",
    "# or\n",
    "# curl http://127.0.0.1:8000/"
   ]
  },
  {
   "cell_type": "markdown",
   "id": "6bb36b11-5d80-4690-be55-dcd9b386e81d",
   "metadata": {},
   "source": [
    "```python\n",
    "from fastapi import FastAPI\n",
    "import uvicorn\n",
    "\n",
    "\n",
    "# Create a FastAPI app instance\n",
    "app = FastAPI()\n",
    "\n",
    "# Define a route\n",
    "@app.get(\"/\")\n",
    "def read_root():\n",
    "    return {\"message\": \"Hello, World!\"}\n",
    "\n",
    "# Run the app with Uvicorn\n",
    "if __name__ == \"__main__\":\n",
    "    uvicorn.run(app, host=\"0.0.0.0\", port=8000)\n",
    "```"
   ]
  },
  {
   "cell_type": "markdown",
   "id": "475560d6-be02-4ce9-bda5-11cb6b929047",
   "metadata": {
    "jp-MarkdownHeadingCollapsed": true
   },
   "source": [
    "### ASGI vs WSGI [2]"
   ]
  },
  {
   "cell_type": "markdown",
   "id": "e6948488-4392-4f04-93f5-704bb355b6a5",
   "metadata": {},
   "source": [
    "#### WSGI Example (Flask):\n",
    "\n",
    "```python\n",
    "from flask import Flask\n",
    "\n",
    "app = Flask(__name__)\n",
    "\n",
    "@app.route(\"/\")\n",
    "def hello():\n",
    "    return \"Hello, World!\"\n",
    "\n",
    "# Run with a WSGI server like Gunicorn:\n",
    "# gunicorn app:app\n",
    "```"
   ]
  },
  {
   "cell_type": "markdown",
   "id": "2031dd94-b11b-4dca-834e-7e12a6244c9c",
   "metadata": {},
   "source": [
    "#### ASGI Example (FastAPI):\n",
    "\n",
    "```python\n",
    "from fastapi import FastAPI\n",
    "\n",
    "app = FastAPI()\n",
    "\n",
    "@app.get(\"/\")\n",
    "async def hello():\n",
    "    return {\"message\": \"Hello, World!\"}\n",
    "\n",
    "# Run with an ASGI server like Uvicorn:\n",
    "# uvicorn app:app\n",
    "```"
   ]
  },
  {
   "cell_type": "markdown",
   "id": "1f2de9e4-e695-430b-a05b-87f3c67f36ae",
   "metadata": {
    "jp-MarkdownHeadingCollapsed": true
   },
   "source": [
    "### ASGI vs WSGI [3]"
   ]
  },
  {
   "cell_type": "markdown",
   "id": "eeef5ff7-b98b-4e09-83c5-940a2d80810e",
   "metadata": {},
   "source": [
    "![image](./asgi_vs_wsgi.jpg)"
   ]
  },
  {
   "cell_type": "markdown",
   "id": "fddabc16-7ffe-4557-8378-2f69c2b26a60",
   "metadata": {},
   "source": [
    "### test"
   ]
  },
  {
   "cell_type": "code",
   "execution_count": 7,
   "id": "6db6c321-fcef-4c24-9796-de14437cee39",
   "metadata": {},
   "outputs": [],
   "source": [
    "import uuid"
   ]
  },
  {
   "cell_type": "code",
   "execution_count": 11,
   "id": "cc66f53f-9b2b-4fb9-b9d4-5126fa2c1415",
   "metadata": {},
   "outputs": [
    {
     "data": {
      "text/plain": [
       "'094aeee6-b192-4c33-805a-bbff0cf73dcc'"
      ]
     },
     "execution_count": 11,
     "metadata": {},
     "output_type": "execute_result"
    }
   ],
   "source": [
    "str(uuid.uuid4())"
   ]
  },
  {
   "cell_type": "code",
   "execution_count": null,
   "id": "d8566ce5-341c-4691-97cb-1a564ec1ffa9",
   "metadata": {},
   "outputs": [],
   "source": []
  }
 ],
 "metadata": {
  "kernelspec": {
   "display_name": "Python 3 (ipykernel)",
   "language": "python",
   "name": "python3"
  },
  "language_info": {
   "codemirror_mode": {
    "name": "ipython",
    "version": 3
   },
   "file_extension": ".py",
   "mimetype": "text/x-python",
   "name": "python",
   "nbconvert_exporter": "python",
   "pygments_lexer": "ipython3",
   "version": "3.11.11"
  }
 },
 "nbformat": 4,
 "nbformat_minor": 5
}
