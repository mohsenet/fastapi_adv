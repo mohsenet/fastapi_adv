{
 "cells": [
  {
   "cell_type": "markdown",
   "id": "63c4dfc9-1955-4a70-8f83-89229e9a1cbe",
   "metadata": {
    "jp-MarkdownHeadingCollapsed": true
   },
   "source": [
    "## Test"
   ]
  },
  {
   "cell_type": "markdown",
   "id": "dc180302-bd48-442f-9d43-475b234e82b7",
   "metadata": {
    "jp-MarkdownHeadingCollapsed": true
   },
   "source": [
    "### Code"
   ]
  },
  {
   "cell_type": "code",
   "execution_count": 6,
   "id": "bb939563-85c6-4794-9e64-4adf8a819799",
   "metadata": {},
   "outputs": [],
   "source": [
    "from fastapi import FastAPI\n",
    "from pydantic import BaseModel, EmailStr, Field\n",
    "from typing import Optional\n",
    "import uvicorn\n",
    "from IPython.display import Markdown, display"
   ]
  },
  {
   "cell_type": "code",
   "execution_count": 7,
   "id": "4ec7b5dc-dc77-4126-8f2d-6dac4cf53bab",
   "metadata": {},
   "outputs": [],
   "source": [
    "# Define Pydantic Models for request input and output schemas\n",
    "class UserRegistrationRequest(BaseModel):\n",
    "    username: str = Field(..., min_length=3, max_length=50)\n",
    "    email: EmailStr\n",
    "    password: str = Field(..., min_length=8)\n",
    "    full_name: Optional[str] = None\n",
    "    age: Optional[int] = Field(None, ge=18)\n",
    "    \n",
    "    class Config:\n",
    "        json_schema_extra = {\n",
    "            \"example\": {\n",
    "                \"username\": \"johndoe\",\n",
    "                \"email\": \"john@example.com\",\n",
    "                \"password\": \"securepass123\",\n",
    "                \"full_name\": \"John Doe\",\n",
    "                \"age\": 30\n",
    "            }\n",
    "        }\n",
    "\n",
    "class UserRegistrationResponse(BaseModel):\n",
    "    id: int\n",
    "    username: str\n",
    "    email: EmailStr\n",
    "    full_name: Optional[str] = None\n",
    "    is_active: bool = True"
   ]
  },
  {
   "cell_type": "markdown",
   "id": "49925bb8-4102-47b0-afb3-cbf87b7e620f",
   "metadata": {
    "jp-MarkdownHeadingCollapsed": true
   },
   "source": [
    "### Test_1"
   ]
  },
  {
   "cell_type": "code",
   "execution_count": 8,
   "id": "1d62c141-c55e-4a70-81cf-ad9040ed698f",
   "metadata": {},
   "outputs": [],
   "source": [
    "# Test the models in Jupyter directly without running the server\n",
    "def test_pydantic_models():\n",
    "    display(Markdown(\"## Testing Pydantic Models\"))\n",
    "    \n",
    "    # Create a valid user\n",
    "    try:\n",
    "        user = UserRegistrationRequest(\n",
    "            username=\"testuser\",\n",
    "            email=\"test@example.com\",\n",
    "            password=\"password123\",\n",
    "            full_name=\"Test User\",\n",
    "            age=22\n",
    "        )\n",
    "        print(\"✅ Valid user created:\", user.model_dump())\n",
    "    except Exception as e:\n",
    "        print(\"❌ Error creating valid user:\", e)\n",
    "    \n",
    "    # Try creating an invalid user (too short username, invalid email)\n",
    "    try:\n",
    "        user = UserRegistrationRequest(\n",
    "            username=\"tu\",  # too short\n",
    "            email=\"not-an-email\",  # invalid email\n",
    "            password=\"short\",  # too short\n",
    "            age=15  # too young\n",
    "        )\n",
    "        print(\"User:\", user.model_dump())\n",
    "    except Exception as e:\n",
    "        print(\"❌ Validation error (expected):\", e)\n",
    "    \n",
    "    # Create a response\n",
    "    try:\n",
    "        response = UserRegistrationResponse(\n",
    "            id=1,\n",
    "            username=\"testuser\",\n",
    "            email=\"test@example.com\",\n",
    "            full_name=\"Test User\"\n",
    "        )\n",
    "        print(\"✅ Valid response created:\", response.model_dump())\n",
    "    except Exception as e:\n",
    "        print(\"❌ Error creating response:\", e)\n",
    "\n",
    "## Run the test function\n",
    "test_pydantic_models()"
   ]
  },
  {
   "cell_type": "code",
   "execution_count": 10,
   "id": "c634262a-fff5-4534-9236-b2c821059861",
   "metadata": {},
   "outputs": [
    {
     "data": {
      "text/markdown": [
       "\n",
       "## Instructions for using the API\n",
       "\n",
       "1. Run the cell above to start the FastAPI server\n",
       "2. Open http://127.0.0.1:8000/docs in your browser to see the Swagger UI\n",
       "3. You can test the API through the Swagger UI or use the following code in another cell:\n",
       "\n",
       "```python\n",
       "import requests\n",
       "import json\n",
       "\n",
       "response = requests.post(\n",
       "    \"http://127.0.0.1:8000/users/\",\n",
       "    json={\n",
       "        \"username\": \"johndoe\",\n",
       "        \"email\": \"john@example.com\",\n",
       "        \"password\": \"securepass123\",\n",
       "        \"full_name\": \"John Doe\",\n",
       "        \"age\": 30\n",
       "    }\n",
       ")\n",
       "\n",
       "print(\"Status Code:\", response.status_code)\n",
       "print(\"Response:\")\n",
       "print(json.dumps(response.json(), indent=2))\n",
       "```\n"
      ],
      "text/plain": [
       "<IPython.core.display.Markdown object>"
      ]
     },
     "metadata": {},
     "output_type": "display_data"
    }
   ],
   "source": [
    "# Display instructions for using the API\n",
    "display(Markdown(\"\"\"\n",
    "## Instructions for using the API\n",
    "\n",
    "1. Run the cell above to start the FastAPI server\n",
    "2. Open http://127.0.0.1:8000/docs in your browser to see the Swagger UI\n",
    "3. You can test the API through the Swagger UI or use the following code in another cell:\n",
    "\n",
    "```python\n",
    "import requests\n",
    "import json\n",
    "\n",
    "response = requests.post(\n",
    "    \"http://127.0.0.1:8000/users/\",\n",
    "    json={\n",
    "        \"username\": \"johndoe\",\n",
    "        \"email\": \"john@example.com\",\n",
    "        \"password\": \"securepass123\",\n",
    "        \"full_name\": \"John Doe\",\n",
    "        \"age\": 30\n",
    "    }\n",
    ")\n",
    "\n",
    "print(\"Status Code:\", response.status_code)\n",
    "print(\"Response:\")\n",
    "print(json.dumps(response.json(), indent=2))\n",
    "```\n",
    "\"\"\"))"
   ]
  },
  {
   "cell_type": "markdown",
   "id": "f3fa6fb3-4a14-4f3b-b66f-95627eeebd00",
   "metadata": {
    "jp-MarkdownHeadingCollapsed": true
   },
   "source": [
    "### Test_3"
   ]
  },
  {
   "cell_type": "code",
   "execution_count": 11,
   "id": "d6534cf6-f0bb-4346-aff9-ca69d761b9a6",
   "metadata": {},
   "outputs": [
    {
     "name": "stdout",
     "output_type": "stream",
     "text": [
      "Status Code: 200\n",
      "Response:\n",
      "{\n",
      "  \"id\": 1,\n",
      "  \"username\": \"johndoe\",\n",
      "  \"email\": \"john@example.com\",\n",
      "  \"full_name\": \"John Doe\",\n",
      "  \"is_active\": true\n",
      "}\n"
     ]
    }
   ],
   "source": [
    "import requests\n",
    "import json\n",
    "\n",
    "\n",
    "response = requests.post(\n",
    "    \"http://127.0.0.1:8000/users/\",\n",
    "    json={\n",
    "        \"username\": \"johndoe\",\n",
    "        \"email\": \"john@example.com\",\n",
    "        \"password\": \"securepass123\",\n",
    "        \"full_name\": \"John Doe\",\n",
    "        \"age\": 27\n",
    "    }\n",
    ")\n",
    "\n",
    "print(\"Status Code:\", response.status_code)\n",
    "print(\"Response:\")\n",
    "print(json.dumps(response.json(), indent=2))"
   ]
  }
 ],
 "metadata": {
  "kernelspec": {
   "display_name": "Python 3 (ipykernel)",
   "language": "python",
   "name": "python3"
  },
  "language_info": {
   "codemirror_mode": {
    "name": "ipython",
    "version": 3
   },
   "file_extension": ".py",
   "mimetype": "text/x-python",
   "name": "python",
   "nbconvert_exporter": "python",
   "pygments_lexer": "ipython3",
   "version": "3.11.11"
  }
 },
 "nbformat": 4,
 "nbformat_minor": 5
}
