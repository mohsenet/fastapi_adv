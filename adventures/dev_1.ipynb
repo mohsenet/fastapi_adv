{
 "cells": [
  {
   "cell_type": "code",
   "execution_count": 1,
   "id": "0b6c4f28-591d-4ab0-addb-f0022ed4c143",
   "metadata": {},
   "outputs": [],
   "source": [
    "# dev ==> develop"
   ]
  },
  {
   "cell_type": "markdown",
   "id": "150a37a4-9e25-48eb-aa5e-dd8082a264f8",
   "metadata": {},
   "source": [
    "- linkedIn of [Alex Razvant](https://www.linkedin.com/in/mohsen-moghimbeglo-69673b49/recent-activity/all/)\n",
    "- Full article of [Alex Razvant](https://neuralbits.substack.com/p/a-complete-tutorial-on-litservelitapi)"
   ]
  },
  {
   "cell_type": "markdown",
   "id": "bf30d760-6a43-447a-bcad-aad3bf99c6eb",
   "metadata": {},
   "source": [
    "```bash\n",
    "pip install uv\n",
    "uv init --name zero-shot-od\n",
    "```\n",
    "\n",
    "```bash\n",
    "\n"
   ]
  },
  {
   "cell_type": "code",
   "execution_count": null,
   "id": "0edd90cd-f056-4ab3-8afa-ab6350b75bc1",
   "metadata": {},
   "outputs": [],
   "source": [
    "pyproject.toml"
   ]
  },
  {
   "cell_type": "markdown",
   "id": "f8216be1-71b9-4b5c-9b07-5c1eec55d4be",
   "metadata": {
    "jp-MarkdownHeadingCollapsed": true
   },
   "source": [
    "##### Not recommended"
   ]
  },
  {
   "cell_type": "markdown",
   "id": "5c31f3cf-ac47-41df-ae2b-e868c2410763",
   "metadata": {},
   "source": [
    "```bash\n",
    "# Not recommended\n",
    "\n",
    "sudo apt update\n",
    "sudo apt install python3-pip\n",
    "\n",
    "pip3 --version\n",
    "\n",
    "pip3 install uv\n",
    "```"
   ]
  },
  {
   "cell_type": "markdown",
   "id": "610e0cd3-ce0c-426d-a22e-0076f729e24b",
   "metadata": {},
   "source": [
    "```bash\n",
    "# Not recommended\n",
    "\n",
    "# ?\n",
    "python3 -m venv myenv\n",
    "source myenv/bin/activate\n",
    "pip install uv\n",
    "\n",
    "# ?\n",
    "python3 -m venv myenv\n",
    "source myenv/bin/activate\n",
    "pip install uv\n",
    "```"
   ]
  },
  {
   "cell_type": "markdown",
   "id": "c1f143a7-70ae-44e1-b4a9-3b23ab3b481e",
   "metadata": {
    "jp-MarkdownHeadingCollapsed": true
   },
   "source": [
    "##### Install uv"
   ]
  },
  {
   "cell_type": "code",
   "execution_count": null,
   "id": "8c0cbda4-92bc-438f-b7fc-e578b032681b",
   "metadata": {},
   "outputs": [],
   "source": [
    "# uv ==> Ultraviolet"
   ]
  },
  {
   "cell_type": "markdown",
   "id": "dc2c9606-5848-4d83-b7fa-208afbb1b779",
   "metadata": {},
   "source": [
    "```bash\n",
    "# For linux or macOS\n",
    "curl -LsSf https://astral.sh/uv/install.sh | sh\n",
    "\n",
    "# For windows powershell\n",
    "powershell -c \"irm https://astral.sh/uv/install.ps1 | iex\"\n",
    "```"
   ]
  },
  {
   "cell_type": "markdown",
   "id": "3f3185d5-a317-46dd-99a1-84894b8cbe1d",
   "metadata": {},
   "source": [
    "```bash\n",
    "# active it to current session of this shell\n",
    "source $HOME/.local/bin/env\n",
    "# Or restart or logout, then login again.\n",
    "```"
   ]
  },
  {
   "cell_type": "code",
   "execution_count": 2,
   "id": "19cad6d8-1b11-4ada-900a-def7833de5c9",
   "metadata": {},
   "outputs": [],
   "source": [
    "!source $HOME/.local/bin/env"
   ]
  },
  {
   "cell_type": "code",
   "execution_count": 3,
   "id": "ec946e55-294f-4e13-b2ed-5ed1659013f9",
   "metadata": {},
   "outputs": [
    {
     "name": "stdout",
     "output_type": "stream",
     "text": [
      "/bin/bash: line 1: uv: command not found\n"
     ]
    }
   ],
   "source": [
    "!uv --version"
   ]
  },
  {
   "cell_type": "markdown",
   "id": "c1fcddeb-f9b1-45bf-844f-9549c0b28013",
   "metadata": {
    "jp-MarkdownHeadingCollapsed": true
   },
   "source": [
    "##### how to use uv with virtual environments:"
   ]
  },
  {
   "cell_type": "markdown",
   "id": "2225aa8e-637a-4236-927b-452463981ae4",
   "metadata": {},
   "source": [
    "```bash\n",
    "# Create a new virtual environment\n",
    "uv venv\n",
    "\n",
    "# Activate the environment (Unix/MacOS)\n",
    "source .venv/bin/activate\n",
    "\n",
    "# Activate the environment (Windows)\n",
    ".venv\\Scripts\\activate\n",
    "\n",
    "# Install packages\n",
    "uv pip install pandas numpy\n",
    "\n",
    "# uv also offers a convenient single command to create a venv and install packages:\n",
    "# Create venv and install dependencies from requirements.txt in one step\n",
    "uv venv --requirements requirements.txt\n",
    "```"
   ]
  },
  {
   "cell_type": "code",
   "execution_count": null,
   "id": "d99d36d9-c68c-4a6c-afec-211b2a6a117a",
   "metadata": {},
   "outputs": [],
   "source": []
  }
 ],
 "metadata": {
  "kernelspec": {
   "display_name": "Python 3 (ipykernel)",
   "language": "python",
   "name": "python3"
  },
  "language_info": {
   "codemirror_mode": {
    "name": "ipython",
    "version": 3
   },
   "file_extension": ".py",
   "mimetype": "text/x-python",
   "name": "python",
   "nbconvert_exporter": "python",
   "pygments_lexer": "ipython3",
   "version": "3.10.12"
  }
 },
 "nbformat": 4,
 "nbformat_minor": 5
}
