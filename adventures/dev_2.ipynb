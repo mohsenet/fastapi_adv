{
 "cells": [
  {
   "cell_type": "markdown",
   "id": "98cea71b-7708-49a2-a590-ed25d9bd1a6f",
   "metadata": {},
   "source": [
    "```bash\n",
    "uv init --name zero-shot-od\n",
    "\n",
    "uv python install 3.11\n",
    "uv python pin 3.11\n",
    "\n",
    "uv add transformers litserve pydantic torch python-multipart loguru\n",
    "```"
   ]
  },
  {
   "cell_type": "code",
   "execution_count": null,
   "id": "d8a2c366-cc1e-425e-b0ee-22d6e1eadc8e",
   "metadata": {},
   "outputs": [],
   "source": []
  }
 ],
 "metadata": {
  "kernelspec": {
   "display_name": "Python 3 (ipykernel)",
   "language": "python",
   "name": "python3"
  },
  "language_info": {
   "codemirror_mode": {
    "name": "ipython",
    "version": 3
   },
   "file_extension": ".py",
   "mimetype": "text/x-python",
   "name": "python",
   "nbconvert_exporter": "python",
   "pygments_lexer": "ipython3",
   "version": "3.10.12"
  }
 },
 "nbformat": 4,
 "nbformat_minor": 5
}
