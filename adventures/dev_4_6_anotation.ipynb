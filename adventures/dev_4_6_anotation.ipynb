{
 "cells": [
  {
   "cell_type": "markdown",
   "id": "7ead9dd9-61b4-4220-a950-9586de9279b6",
   "metadata": {
    "jp-MarkdownHeadingCollapsed": true
   },
   "source": [
    "### Whole code (anotation)"
   ]
  },
  {
   "cell_type": "markdown",
   "id": "261cd7db-f7fe-44e2-9488-2d15cb1466ac",
   "metadata": {
    "jp-MarkdownHeadingCollapsed": true
   },
   "source": [
    "#### anotation [1]"
   ]
  },
  {
   "cell_type": "markdown",
   "id": "54db5b0e-9e35-4412-812e-62847c8b691c",
   "metadata": {},
   "source": [
    "##### Put following Python code in \"dev_4_6_anotation_test_1.py\" file and run it withfollowing commands in terminal"
   ]
  },
  {
   "cell_type": "markdown",
   "id": "391d0b5b-13b9-474f-b650-8792e5b13541",
   "metadata": {},
   "source": [
    "```bash\n",
    "sudo chmode +x dev_4_6_anotation_test_1.py\n",
    "python dev_4_6_anotation_test_1.py\n",
    "```"
   ]
  },
  {
   "cell_type": "code",
   "execution_count": null,
   "id": "947e0cb1-6d2b-47b5-ba61-9b05237c02e1",
   "metadata": {},
   "outputs": [],
   "source": [
    "import asyncio\n",
    "from dataclasses import dataclass\n",
    "from typing import List, Optional\n",
    "\n",
    "@dataclass\n",
    "class UserCreateRequest:\n",
    "    username: str\n",
    "    email: str\n",
    "    full_name: str\n",
    "    age: int\n",
    "    roles: List[str] = None\n",
    "    is_active: bool = True\n",
    "\n",
    "async def create_user(user: UserCreateRequest):\n",
    "    # For this example, let's just print the user info and return a mock result\n",
    "    print(f\"Creating user: {user.username}, {user.email}\")\n",
    "    # In a real application, this would interact with a database\n",
    "    return {\"id\": \"user_123\", \"username\": user.username, \"email\": user.email}\n",
    "\n",
    "# Example of how to call the function\n",
    "async def main():\n",
    "    # Create a UserCreateRequest instance\n",
    "    new_user_request = UserCreateRequest(\n",
    "        username=\"johndoe\",\n",
    "        email=\"john.doe@example.com\",\n",
    "        full_name=\"John Doe\",\n",
    "        age=30,\n",
    "        roles=[\"user\", \"editor\"]\n",
    "    )\n",
    "    \n",
    "    # Call the create_user function\n",
    "    try:\n",
    "        created_user = await create_user(new_user_request)\n",
    "        print(f\"User created successfully! User ID: {created_user['id']}\")\n",
    "    except Exception as e:\n",
    "        print(f\"Error creating user: {str(e)}\")\n",
    "\n",
    "# Run the async function\n",
    "if __name__ == \"__main__\":\n",
    "    asyncio.run(main())"
   ]
  },
  {
   "cell_type": "markdown",
   "id": "b7c0f6af-24cc-41b8-9f15-1dc69826236e",
   "metadata": {},
   "source": [
    "#### dataclass"
   ]
  },
  {
   "cell_type": "markdown",
   "id": "828bfd70-e7a6-429c-b083-f299f77a3901",
   "metadata": {
    "jp-MarkdownHeadingCollapsed": true
   },
   "source": [
    "##### dataclass [1]"
   ]
  },
  {
   "cell_type": "markdown",
   "id": "35c8f1ad-772d-444e-a3df-1959fb3c01ac",
   "metadata": {},
   "source": [
    "reducing boilerplate code with `dataclass`"
   ]
  },
  {
   "cell_type": "code",
   "execution_count": 2,
   "id": "eb19bd41-946c-49d1-bc1e-bcb77a7faab7",
   "metadata": {},
   "outputs": [
    {
     "name": "stdout",
     "output_type": "stream",
     "text": [
      "Person(name='Alice', age=30, city='Unknown')\n",
      "Person(name='Bob', age=25, city='New York')\n",
      "False\n"
     ]
    }
   ],
   "source": [
    "from dataclasses import dataclass\n",
    "\n",
    "@dataclass\n",
    "class Person:\n",
    "    name: str\n",
    "    age: int\n",
    "    city: str = \"Unknown\"  # Default value\n",
    "\n",
    "# Creating an instance of the Person class\n",
    "person1 = Person(name=\"Alice\", age=30)\n",
    "person2 = Person(name=\"Bob\", age=25, city=\"New York\")\n",
    "\n",
    "# Printing the instances\n",
    "print(person1)  # Output: Person(name='Alice', age=30, city='Unknown')\n",
    "print(person2)  # Output: Person(name='Bob', age=25, city='New York')\n",
    "\n",
    "# Comparing instances\n",
    "print(person1 == person2)  # Output: False"
   ]
  },
  {
   "cell_type": "markdown",
   "id": "21ba18f1-fcd7-4371-b56b-4afb0540b6ba",
   "metadata": {
    "jp-MarkdownHeadingCollapsed": true
   },
   "source": [
    "##### dataclass [2] (advanced)"
   ]
  },
  {
   "cell_type": "code",
   "execution_count": 9,
   "id": "de633a9a-105a-43d9-81ec-6bcf023a50c9",
   "metadata": {},
   "outputs": [
    {
     "name": "stdout",
     "output_type": "stream",
     "text": [
      "2023 Tesla Model S (Color: Red), Doors: 4, Electric: True\n",
      "2022 Ford F-150 (Color: Unknown), Towing Capacity: 12000 lbs, 4x4: True\n",
      "Car(make='Tesla', model='Model S', year=2023, color='Red', features=['Autopilot'], num_doors=4, is_electric=True)\n",
      "Truck(make='Ford', model='F-150', year=2022, color='Unknown', features=['Tow Package'], towing_capacity=12000, is_4x4=True)\n"
     ]
    }
   ],
   "source": [
    "from dataclasses import dataclass, field\n",
    "from typing import List\n",
    "\n",
    "@dataclass\n",
    "class Vehicle:\n",
    "    make: str\n",
    "    model: str\n",
    "    year: int\n",
    "    color: str = \"Unknown\"  # Default value\n",
    "    features: List[str] = field(default_factory=list)  # Avoid mutable default pitfall\n",
    "    \n",
    "    def display_info(self) -> str:\n",
    "        return f\"{self.year} {self.make} {self.model} (Color: {self.color})\"\n",
    "\n",
    "@dataclass\n",
    "class Car(Vehicle):\n",
    "    num_doors: int = 4\n",
    "    is_electric: bool = False\n",
    "    \n",
    "    def display_info(self) -> str:\n",
    "        info = super().display_info()\n",
    "        return f\"{info}, Doors: {self.num_doors}, Electric: {self.is_electric}\"\n",
    "\n",
    "@dataclass\n",
    "class Truck(Vehicle):\n",
    "    towing_capacity: float = 0.0  # Added default value to fix the error\n",
    "    is_4x4: bool = False\n",
    "    \n",
    "    def display_info(self) -> str:\n",
    "        info = super().display_info()\n",
    "        return f\"{info}, Towing Capacity: {self.towing_capacity} lbs, 4x4: {self.is_4x4}\"\n",
    "\n",
    "# Creating instances\n",
    "car = Car(make=\"Tesla\", model=\"Model S\", year=2023, color=\"Red\", is_electric=True)\n",
    "truck = Truck(make=\"Ford\", model=\"F-150\", year=2022, towing_capacity=12000, is_4x4=True)\n",
    "\n",
    "# Adding features\n",
    "car.features.append(\"Autopilot\")\n",
    "truck.features.append(\"Tow Package\")\n",
    "\n",
    "# Displaying information\n",
    "print(car.display_info())\n",
    "print(truck.display_info())\n",
    "\n",
    "# Printing the objects (uses __repr__ generated by dataclass)\n",
    "print(car)\n",
    "print(truck)"
   ]
  },
  {
   "cell_type": "markdown",
   "id": "e6e8edd1-6153-4d63-abb7-4d8dcd68091c",
   "metadata": {
    "jp-MarkdownHeadingCollapsed": true
   },
   "source": [
    "#### Type Hints"
   ]
  },
  {
   "cell_type": "markdown",
   "id": "be4ef634-a3c0-4842-a6c9-3dcf6a3178be",
   "metadata": {
    "jp-MarkdownHeadingCollapsed": true
   },
   "source": [
    "##### Type Hints (-> str) [1]"
   ]
  },
  {
   "cell_type": "markdown",
   "id": "504afcdd-30a5-4bc2-ae37-dee1309271c0",
   "metadata": {},
   "source": [
    "Introduced type hints in [Python 3.5 (PEP 484)]"
   ]
  },
  {
   "cell_type": "code",
   "execution_count": null,
   "id": "8b6ee071-c82f-4a62-adaa-374f56a4fee1",
   "metadata": {},
   "outputs": [],
   "source": [
    "def greet(name: str, age: int) -> str:\n",
    "    return f\"Hello, {name}! You are {age} years old.\"\n",
    "\n",
    "message = greet(\"Alice\", 30)\n",
    "print(message)  # Output: Hello, Alice! You are 30 years old."
   ]
  },
  {
   "cell_type": "markdown",
   "id": "f9e67902-3591-41e7-b342-7f456d8c05e6",
   "metadata": {
    "jp-MarkdownHeadingCollapsed": true
   },
   "source": [
    "##### Type Hints (-> str) [2]"
   ]
  },
  {
   "cell_type": "code",
   "execution_count": 10,
   "id": "4ee4ad0d-ce52-4183-a5d3-685a9220e367",
   "metadata": {},
   "outputs": [
    {
     "name": "stdout",
     "output_type": "stream",
     "text": [
      "Metadata: {'class': 'Math', 'teacher': 'Mr. Smith'}\n",
      "90.0\n"
     ]
    }
   ],
   "source": [
    "from typing import List, Dict\n",
    "\n",
    "def process_scores(scores: List[int], metadata: Dict[str, str]) -> float:\n",
    "    average = sum(scores) / len(scores)\n",
    "    print(f\"Metadata: {metadata}\")\n",
    "    return average\n",
    "\n",
    "# Usage\n",
    "result = process_scores([90, 85, 95], {\"class\": \"Math\", \"teacher\": \"Mr. Smith\"})\n",
    "print(result)  # Output: 90.0"
   ]
  },
  {
   "cell_type": "markdown",
   "id": "26ee5338-0604-4b43-92c7-250096fba9f5",
   "metadata": {
    "jp-MarkdownHeadingCollapsed": true
   },
   "source": [
    "##### Type Hints (-> str) [3]"
   ]
  },
  {
   "cell_type": "markdown",
   "id": "d7ccf8ca-1d1d-4798-801d-b3f394d2a116",
   "metadata": {},
   "source": [
    "Example with Optional Values<br>\n",
    "For parameters that can be None, use Optional:"
   ]
  },
  {
   "cell_type": "code",
   "execution_count": 11,
   "id": "3d381ea7-030e-456f-9085-ef8f1f0998f0",
   "metadata": {},
   "outputs": [
    {
     "name": "stdout",
     "output_type": "stream",
     "text": [
      "User 1 has username Alice.\n",
      "User 2 has no username.\n"
     ]
    }
   ],
   "source": [
    "from typing import Optional\n",
    "\n",
    "def find_user(user_id: int, username: Optional[str] = None) -> str:\n",
    "    if username:\n",
    "        return f\"User {user_id} has username {username}.\"\n",
    "    return f\"User {user_id} has no username.\"\n",
    "\n",
    "# Usage\n",
    "print(find_user(1, \"Alice\"))  # Output: User 1 has username Alice.\n",
    "print(find_user(2))           # Output: User 2 has no username."
   ]
  },
  {
   "cell_type": "code",
   "execution_count": null,
   "id": "d0959704-0a35-4b93-aaf4-5d07c8dbbbf8",
   "metadata": {},
   "outputs": [],
   "source": []
  }
 ],
 "metadata": {
  "kernelspec": {
   "display_name": "Python 3 (ipykernel)",
   "language": "python",
   "name": "python3"
  },
  "language_info": {
   "codemirror_mode": {
    "name": "ipython",
    "version": 3
   },
   "file_extension": ".py",
   "mimetype": "text/x-python",
   "name": "python",
   "nbconvert_exporter": "python",
   "pygments_lexer": "ipython3",
   "version": "3.10.12"
  }
 },
 "nbformat": 4,
 "nbformat_minor": 5
}
