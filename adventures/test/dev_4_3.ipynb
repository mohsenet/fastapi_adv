{
 "cells": [
  {
   "cell_type": "markdown",
   "id": "56c293a8-c1e1-4e71-b4eb-4446ffb37afa",
   "metadata": {},
   "source": [
    "## BaseModel in Pydantic"
   ]
  },
  {
   "cell_type": "markdown",
   "id": "8df1dc7f-7e6f-4e65-81a4-446610eaaf41",
   "metadata": {
    "jp-MarkdownHeadingCollapsed": true
   },
   "source": [
    "### Test_1"
   ]
  },
  {
   "cell_type": "code",
   "execution_count": 1,
   "id": "df78595f-9cbf-4d97-81f7-7a72de4bd2d3",
   "metadata": {},
   "outputs": [
    {
     "name": "stdout",
     "output_type": "stream",
     "text": [
      "{'id': 1, 'name': 'John Doe', 'age': 30, 'email': 'john.doe@example.com'}\n",
      "{\"id\":1,\"name\":\"John Doe\",\"age\":30,\"email\":\"john.doe@example.com\"}\n"
     ]
    }
   ],
   "source": [
    "from pydantic import BaseModel\n",
    "\n",
    "# Define a User model using BaseModel\n",
    "class User(BaseModel):\n",
    "    id: int\n",
    "    name: str\n",
    "    age: int\n",
    "    email: str\n",
    "\n",
    "# Create an instance of the User model\n",
    "user_data = {\n",
    "    \"id\": 1,\n",
    "    \"name\": \"John Doe\",\n",
    "    \"age\": 30,\n",
    "    \"email\": \"john.doe@example.com\"\n",
    "}\n",
    "\n",
    "user = User(**user_data)\n",
    "\n",
    "# Convert the User model to a dictionary using model_dump()\n",
    "user_dict = user.model_dump()\n",
    "print(user_dict)\n",
    "# Output: {'id': 1, 'name': 'John Doe', 'age': 30, 'email': 'john.doe@example.com'}\n",
    "\n",
    "# Convert the User model to JSON using model_dump_json()\n",
    "user_json = user.model_dump_json()\n",
    "print(user_json)\n",
    "# Output: {\"id\":1,\"name\":\"John Doe\",\"age\":30,\"email\":\"john.doe@example.com\"}"
   ]
  },
  {
   "cell_type": "markdown",
   "id": "9e9da5c8-434e-4be1-b896-0fdd50a9e7e7",
   "metadata": {},
   "source": [
    "### Test_2 (advance)"
   ]
  },
  {
   "cell_type": "code",
   "execution_count": 2,
   "id": "b716b8dc-eb78-49a1-88ed-0e6478f8f0bd",
   "metadata": {},
   "outputs": [
    {
     "name": "stdout",
     "output_type": "stream",
     "text": [
      "id=1 name='John Doe' age=None email='john.doe@example.com' role=<Role.ADMIN: 'admin'> addresses=[Address(street='123 Main St', city='New York', state='NY', zip_code='10001')]\n",
      "{'id': 1, 'name': 'John Doe', 'age': None, 'email': 'john.doe@example.com', 'role': <Role.ADMIN: 'admin'>, 'addresses': [{'street': '123 Main St', 'city': 'New York', 'state': 'NY', 'zipCode': '10001'}]}\n",
      "{\"id\":1,\"name\":\"John Doe\",\"age\":null,\"email\":\"john.doe@example.com\",\"role\":\"admin\",\"addresses\":[{\"street\":\"123 Main St\",\"city\":\"New York\",\"state\":\"NY\",\"zipCode\":\"10001\"}]}\n",
      "Validation error: 2 validation errors for User\n",
      "role\n",
      "  Input should be 'admin', 'editor' or 'viewer' [type=enum, input_value='invalid_role', input_type=str]\n",
      "    For further information visit https://errors.pydantic.dev/2.10/v/enum\n",
      "addresses.0.zipCode\n",
      "  Value error, Zip code must be 5 digits [type=value_error, input_value='9000A', input_type=str]\n",
      "    For further information visit https://errors.pydantic.dev/2.10/v/value_error\n"
     ]
    }
   ],
   "source": [
    "from pydantic import BaseModel, field_validator, Field, ValidationError\n",
    "from typing import Optional, List\n",
    "from enum import Enum\n",
    "\n",
    "# Define an Enum for user roles\n",
    "class Role(str, Enum):\n",
    "    ADMIN = \"admin\"\n",
    "    EDITOR = \"editor\"\n",
    "    VIEWER = \"viewer\"\n",
    "\n",
    "# Define a nested Address model\n",
    "class Address(BaseModel):\n",
    "    street: str\n",
    "    city: str\n",
    "    state: str\n",
    "    zip_code: str = Field(..., alias=\"zipCode\")  # Use alias for JSON/dictionary keys\n",
    "\n",
    "    # Custom validator to ensure the zip code is 5 digits\n",
    "    @field_validator(\"zip_code\")\n",
    "    @classmethod\n",
    "    def validate_zip_code(cls, value):\n",
    "        if not value.isdigit() or len(value) != 5:\n",
    "            raise ValueError(\"Zip code must be 5 digits\")\n",
    "        return value\n",
    "\n",
    "# Define the main User model\n",
    "class User(BaseModel):\n",
    "    id: int\n",
    "    name: str\n",
    "    age: Optional[int] = None  # Optional field\n",
    "    email: str\n",
    "    role: Role = Role.VIEWER  # Default value for role\n",
    "    addresses: List[Address] = []  # List of nested Address models\n",
    "\n",
    "    # Custom validator to ensure age is positive\n",
    "    @field_validator(\"age\")\n",
    "    @classmethod\n",
    "    def validate_age(cls, value):\n",
    "        if value is not None and value < 0:\n",
    "            raise ValueError(\"Age must be a positive number\")\n",
    "        return value\n",
    "\n",
    "# Example usage\n",
    "user_data = {\n",
    "    \"id\": 1,\n",
    "    \"name\": \"John Doe\",\n",
    "    \"email\": \"john.doe@example.com\",\n",
    "    \"role\": \"admin\",  # Enum value\n",
    "    \"addresses\": [\n",
    "        {\n",
    "            \"street\": \"123 Main St\",\n",
    "            \"city\": \"New York\",\n",
    "            \"state\": \"NY\",\n",
    "            \"zipCode\": \"10001\"  # Using alias\n",
    "        }\n",
    "    ]\n",
    "}\n",
    "\n",
    "# Create a User instance\n",
    "user = User(**user_data)\n",
    "\n",
    "# Print the user model\n",
    "print(user)\n",
    "# Output: id=1 name='John Doe' age=None email='john.doe@example.com' role=<Role.ADMIN: 'admin'> addresses=[Address(street='123 Main St', city='New York', state='NY', zip_code='10001')]\n",
    "\n",
    "# Convert the User model to a dictionary\n",
    "user_dict = user.model_dump(by_alias=True)  # Use aliases for dictionary keys\n",
    "print(user_dict)\n",
    "# Output: {'id': 1, 'name': 'John Doe', 'age': None, 'email': 'john.doe@example.com', 'role': 'admin', 'addresses': [{'street': '123 Main St', 'city': 'New York', 'state': 'NY', 'zipCode': '10001'}]}\n",
    "\n",
    "# Convert the User model to JSON\n",
    "user_json = user.model_dump_json(by_alias=True)\n",
    "print(user_json)\n",
    "# Output: {\"id\":1,\"name\":\"John Doe\",\"age\":null,\"email\":\"john.doe@example.com\",\"role\":\"admin\",\"addresses\":[{\"street\":\"123 Main St\",\"city\":\"New York\",\"state\":\"NY\",\"zipCode\":\"10001\"}]}\n",
    "\n",
    "# Validation error example\n",
    "try:\n",
    "    invalid_user_data = {\n",
    "        \"id\": 2,\n",
    "        \"name\": \"Jane Doe\",\n",
    "        \"email\": \"jane.doe@example.com\",\n",
    "        \"role\": \"invalid_role\",  # Invalid enum value\n",
    "        \"addresses\": [\n",
    "            {\n",
    "                \"street\": \"456 Elm St\",\n",
    "                \"city\": \"Los Angeles\",\n",
    "                \"state\": \"CA\",\n",
    "                \"zipCode\": \"9000A\"  # Invalid zip code\n",
    "            }\n",
    "        ]\n",
    "    }\n",
    "    invalid_user = User(**invalid_user_data)\n",
    "except ValidationError as e:\n",
    "    print(f\"Validation error: {e}\")\n",
    "# Output: Validation error: 2 validation errors for User\n",
    "# role: Input should be 'admin', 'editor' or 'viewer' [type=enum, input_value='invalid_role', input_type=str]\n",
    "# addresses.0.zipCode: Value error, Zip code must be 5 digits [type=value_error, input_value='9000A', input_type=str]"
   ]
  },
  {
   "cell_type": "code",
   "execution_count": null,
   "id": "579a136d-1a3f-4575-8b80-d96bef26feeb",
   "metadata": {},
   "outputs": [],
   "source": []
  }
 ],
 "metadata": {
  "kernelspec": {
   "display_name": "Python 3 (ipykernel)",
   "language": "python",
   "name": "python3"
  },
  "language_info": {
   "codemirror_mode": {
    "name": "ipython",
    "version": 3
   },
   "file_extension": ".py",
   "mimetype": "text/x-python",
   "name": "python",
   "nbconvert_exporter": "python",
   "pygments_lexer": "ipython3",
   "version": "3.11.11"
  }
 },
 "nbformat": 4,
 "nbformat_minor": 5
}
