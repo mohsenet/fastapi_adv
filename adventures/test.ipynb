{
 "cells": [
  {
   "cell_type": "markdown",
   "id": "3c1a1f1d-a643-4519-a6fe-babceec9bbb4",
   "metadata": {
    "jp-MarkdownHeadingCollapsed": true
   },
   "source": [
    "### test [1] Enum"
   ]
  },
  {
   "cell_type": "code",
   "execution_count": 1,
   "id": "a5f50d96-b63e-4519-a39b-873bace228fe",
   "metadata": {},
   "outputs": [],
   "source": [
    "from enum import Enum"
   ]
  },
  {
   "cell_type": "code",
   "execution_count": 2,
   "id": "5cc1dd3e-c516-4703-adf8-9815a3704442",
   "metadata": {},
   "outputs": [],
   "source": [
    "class Computer(Enum):\n",
    "    RAM = 1\n",
    "    CPU = 2\n",
    "    HDD = 3"
   ]
  },
  {
   "cell_type": "code",
   "execution_count": 5,
   "id": "e163fbf9-4136-4fb0-aea6-3b7fb1d61fa8",
   "metadata": {},
   "outputs": [
    {
     "data": {
      "text/plain": [
       "2"
      ]
     },
     "execution_count": 5,
     "metadata": {},
     "output_type": "execute_result"
    }
   ],
   "source": [
    "Computer.CPU.value"
   ]
  },
  {
   "cell_type": "code",
   "execution_count": null,
   "id": "f51b1831-c652-4049-be0e-97d9c41d0d6b",
   "metadata": {},
   "outputs": [],
   "source": [
    "computer_data = {\n",
    "    \n",
    "}"
   ]
  },
  {
   "cell_type": "markdown",
   "id": "ffbd421c-5e83-42fe-b39d-92cd97d9083d",
   "metadata": {},
   "source": [
    "### test [2] memory_profiler"
   ]
  },
  {
   "cell_type": "markdown",
   "id": "32c51a53-0463-4836-bfa5-9c9d98c6b808",
   "metadata": {},
   "source": [
    "[memory_profiler](https://github.com/pythonprofilers/memory_profiler)"
   ]
  },
  {
   "cell_type": "markdown",
   "id": "d861f6f7-b32b-44fb-a775-bf4dff6cb042",
   "metadata": {
    "jp-MarkdownHeadingCollapsed": true
   },
   "source": [
    "#### Run it in jupyter"
   ]
  },
  {
   "cell_type": "code",
   "execution_count": 1,
   "id": "e19bbd96-53c5-403e-b02c-9dd13cc2dcb7",
   "metadata": {},
   "outputs": [
    {
     "name": "stdout",
     "output_type": "stream",
     "text": [
      "peak memory: 229.47 MiB, increment: 160.38 MiB\n"
     ]
    }
   ],
   "source": [
    "%load_ext memory_profiler\n",
    "\n",
    "def my_func():\n",
    "    a = [1] * (10 ** 6)\n",
    "    b = [2] * (2 * 10 ** 7)\n",
    "    del b\n",
    "    return a\n",
    "\n",
    "%memit my_func()"
   ]
  },
  {
   "cell_type": "code",
   "execution_count": 2,
   "id": "50027e9c-f7e1-4b54-9d41-2bb01f55aebb",
   "metadata": {},
   "outputs": [
    {
     "name": "stdout",
     "output_type": "stream",
     "text": [
      "mprof: Sampling memory every 0.1s\n",
      "running new process\n",
      "running as a Python program...\n",
      "Filename: test1.py\n",
      "\n",
      "Line #    Mem usage    Increment  Occurrences   Line Contents\n",
      "=============================================================\n",
      "     4     49.5 MiB     49.5 MiB           1   @profile\n",
      "     5                                         def my_func():\n",
      "     6     57.2 MiB      7.6 MiB           1       a = [1] * (10 ** 6)\n",
      "     7    209.8 MiB    152.6 MiB           1       b = [2] * (2 * 10 ** 7)\n",
      "     8     57.2 MiB   -152.5 MiB           1       del b\n",
      "     9     57.2 MiB      0.0 MiB           1       return a\n",
      "\n",
      "\n",
      "Using last profile data.\n",
      "Figure(1260x540)\n"
     ]
    }
   ],
   "source": [
    "!mprof run test1.py\n",
    "!mprof plot"
   ]
  },
  {
   "cell_type": "markdown",
   "id": "cfbec3a4-40ed-4bc9-bdaf-4d5eddf9a617",
   "metadata": {
    "jp-MarkdownHeadingCollapsed": true
   },
   "source": [
    "#### Write it in vi editor and run it with terminal"
   ]
  },
  {
   "cell_type": "markdown",
   "id": "eb805388-7d2f-4480-9490-ecb8eafacbb9",
   "metadata": {},
   "source": [
    "##### In vi editor"
   ]
  },
  {
   "cell_type": "markdown",
   "id": "09a27794-2315-4fd9-b49a-c27e9cfbb9eb",
   "metadata": {
    "scrolled": true
   },
   "source": [
    "```python\n",
    "from memory_profiler import profile\n",
    "\n",
    "\n",
    "@profile\n",
    "def my_func():\n",
    "    a = [1] * (10 ** 6)\n",
    "    b = [2] * (2 * 10 ** 7)\n",
    "    del b\n",
    "    return a\n",
    "\n",
    "my_func()\n",
    "```"
   ]
  },
  {
   "cell_type": "markdown",
   "id": "42ef392a-37fa-4eb1-82f3-464dc0d2b869",
   "metadata": {},
   "source": [
    "##### In terminal"
   ]
  },
  {
   "cell_type": "markdown",
   "id": "2e065c88-8152-49aa-b40e-de920f924d80",
   "metadata": {},
   "source": [
    "```bash\n",
    "mprof run test1.py\n",
    "mprof plot\n",
    "# mprof plot -o memory_plot.png\n",
    "```"
   ]
  },
  {
   "cell_type": "code",
   "execution_count": null,
   "id": "25e7439f-9a38-4ee3-b91b-d898373f8b46",
   "metadata": {},
   "outputs": [],
   "source": []
  }
 ],
 "metadata": {
  "kernelspec": {
   "display_name": "Python 3 (ipykernel)",
   "language": "python",
   "name": "python3"
  },
  "language_info": {
   "codemirror_mode": {
    "name": "ipython",
    "version": 3
   },
   "file_extension": ".py",
   "mimetype": "text/x-python",
   "name": "python",
   "nbconvert_exporter": "python",
   "pygments_lexer": "ipython3",
   "version": "3.11.11"
  }
 },
 "nbformat": 4,
 "nbformat_minor": 5
}
