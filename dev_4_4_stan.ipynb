{
 "cells": [
  {
   "cell_type": "markdown",
   "id": "e203c8c0-77d4-46b4-ad74-3973b0afbd8e",
   "metadata": {},
   "source": [
    "## stan"
   ]
  },
  {
   "cell_type": "markdown",
   "id": "22d9de98-b506-427a-8582-ed774b29591b",
   "metadata": {
    "jp-MarkdownHeadingCollapsed": true
   },
   "source": [
    "### Whole of code"
   ]
  },
  {
   "cell_type": "code",
   "execution_count": 2,
   "id": "adeec319-fcd1-49f4-ada0-2abf5637088a",
   "metadata": {},
   "outputs": [
    {
     "name": "stdout",
     "output_type": "stream",
     "text": [
      "code='123456'\n",
      "1 validation error for MyModel\n",
      "code\n",
      "  Value error, All characters in 'code' must be digits [type=value_error, input_value='abc123', input_type=str]\n",
      "    For further information visit https://errors.pydantic.dev/2.10/v/value_error\n",
      "1 validation error for MyModel\n",
      "code\n",
      "  String should have at least 6 characters [type=string_too_short, input_value='12345', input_type=str]\n",
      "    For further information visit https://errors.pydantic.dev/2.10/v/string_too_short\n"
     ]
    }
   ],
   "source": [
    "from pydantic import BaseModel, Field, field_validator, ValidationError\n",
    "\n",
    "class MyModel(BaseModel):\n",
    "    # Define the field as required and with length constraints\n",
    "    code: str = Field(..., min_length=6, max_length=6, description=\"A 6-digit code\")\n",
    "\n",
    "    # Custom validator to ensure all characters are digits\n",
    "    @field_validator('code')\n",
    "    def check_all_digits(cls, value: str) -> str:\n",
    "        if not value.isdigit():\n",
    "            raise ValueError(\"All characters in 'code' must be digits\")\n",
    "        return value\n",
    "\n",
    "# Example usage\n",
    "try:\n",
    "    # Valid input\n",
    "    valid_data = MyModel(code=\"123456\")\n",
    "    print(valid_data)  # Output: code='123456'\n",
    "\n",
    "    # Invalid input (non-digit characters)\n",
    "    invalid_data = MyModel(code=\"abc123\")\n",
    "except ValidationError as e:\n",
    "    print(e)\n",
    "    # Output: 1 validation error for MyModel\n",
    "    # code -> Value error: All characters in 'code' must be digits\n",
    "\n",
    "try:\n",
    "    # Invalid input (wrong length)\n",
    "    invalid_length = MyModel(code=\"12345\")\n",
    "except ValidationError as e:\n",
    "    print(e)\n",
    "    # Output: 1 validation error for MyModel\n",
    "    # code -> String should have at least 6 characters"
   ]
  },
  {
   "cell_type": "markdown",
   "id": "ba1c6605-778d-4dc2-8d79-49536aa03b79",
   "metadata": {
    "jp-MarkdownHeadingCollapsed": true
   },
   "source": [
    "### Seperate of code"
   ]
  },
  {
   "cell_type": "code",
   "execution_count": null,
   "id": "99e72593-28df-4204-a2eb-52fe30f1d005",
   "metadata": {},
   "outputs": [],
   "source": [
    "# ..."
   ]
  }
 ],
 "metadata": {
  "kernelspec": {
   "display_name": "Python 3 (ipykernel)",
   "language": "python",
   "name": "python3"
  },
  "language_info": {
   "codemirror_mode": {
    "name": "ipython",
    "version": 3
   },
   "file_extension": ".py",
   "mimetype": "text/x-python",
   "name": "python",
   "nbconvert_exporter": "python",
   "pygments_lexer": "ipython3",
   "version": "3.11.11"
  }
 },
 "nbformat": 4,
 "nbformat_minor": 5
}
