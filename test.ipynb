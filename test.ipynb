{
 "cells": [
  {
   "cell_type": "code",
   "execution_count": 1,
   "id": "a5f50d96-b63e-4519-a39b-873bace228fe",
   "metadata": {},
   "outputs": [],
   "source": [
    "from enum import Enum"
   ]
  },
  {
   "cell_type": "code",
   "execution_count": 2,
   "id": "5cc1dd3e-c516-4703-adf8-9815a3704442",
   "metadata": {},
   "outputs": [],
   "source": [
    "class Computer(Enum):\n",
    "    RAM = 1\n",
    "    CPU = 2\n",
    "    HDD = 3"
   ]
  },
  {
   "cell_type": "code",
   "execution_count": 5,
   "id": "e163fbf9-4136-4fb0-aea6-3b7fb1d61fa8",
   "metadata": {},
   "outputs": [
    {
     "data": {
      "text/plain": [
       "2"
      ]
     },
     "execution_count": 5,
     "metadata": {},
     "output_type": "execute_result"
    }
   ],
   "source": [
    "Computer.CPU.value"
   ]
  },
  {
   "cell_type": "code",
   "execution_count": null,
   "id": "f51b1831-c652-4049-be0e-97d9c41d0d6b",
   "metadata": {},
   "outputs": [],
   "source": [
    "computer_data = {\n",
    "    \n",
    "}"
   ]
  }
 ],
 "metadata": {
  "kernelspec": {
   "display_name": "Python 3 (ipykernel)",
   "language": "python",
   "name": "python3"
  },
  "language_info": {
   "codemirror_mode": {
    "name": "ipython",
    "version": 3
   },
   "file_extension": ".py",
   "mimetype": "text/x-python",
   "name": "python",
   "nbconvert_exporter": "python",
   "pygments_lexer": "ipython3",
   "version": "3.11.11"
  }
 },
 "nbformat": 4,
 "nbformat_minor": 5
}
